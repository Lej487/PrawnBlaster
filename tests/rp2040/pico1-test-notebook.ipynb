{
 "cells": [
  {
   "cell_type": "markdown",
   "id": "9f75abbb",
   "metadata": {},
   "source": [
    "Initialization"
   ]
  },
  {
   "cell_type": "code",
   "execution_count": null,
   "id": "2f7e02e6",
   "metadata": {},
   "outputs": [],
   "source": [
    "import serial\n",
    "\n",
    "# Debug Mode On or Off\n",
    "debugmode = \"on\"\n",
    "\n",
    "# Set Number of Psuedoclocks\n",
    "numofclocks = 4\n",
    "\n",
    "# Set Port Number\n",
    "port_number = \"COM4\"\n",
    "\n",
    "ser = serial.Serial(port=port_number,baudrate=115200,timeout=1)\n",
    "debug = f'debug {debugmode}\\r\\n'.encode()\n",
    "setnumofclocks = b'setnumpseudoclocks %d\\r\\n' % numofclocks\n",
    "ser.write(debug)\n",
    "ser.write(setnumofclocks)\n",
    "\n",
    "response = ser.read(100)\n",
    "\n",
    "print(response.decode(errors=\"ignore\"))\n",
    "\n",
    "ser.close()"
   ]
  },
  {
   "cell_type": "markdown",
   "id": "20b708fc",
   "metadata": {},
   "source": [
    "Get Frequency"
   ]
  },
  {
   "cell_type": "code",
   "execution_count": null,
   "id": "0e825950",
   "metadata": {},
   "outputs": [],
   "source": [
    "ser = serial.Serial(port=port_number,baudrate=115200,timeout=1)\n",
    "\n",
    "ser.write(b'getfreqs\\r\\n')\n",
    "\n",
    "response = ser.read(100)\n",
    "\n",
    "print(response.decode(errors=\"ignore\"))\n",
    "\n",
    "ser.close()"
   ]
  },
  {
   "cell_type": "markdown",
   "id": "80f8e1bb",
   "metadata": {},
   "source": [
    "Get Voltage"
   ]
  },
  {
   "cell_type": "code",
   "execution_count": null,
   "id": "dddd1696",
   "metadata": {},
   "outputs": [],
   "source": [
    "ser = serial.Serial(port=port_number,baudrate=115200,timeout=1)\n",
    "\n",
    "ser.write(b'getvolts\\r\\n')\n",
    "\n",
    "response = ser.read(100)\n",
    "\n",
    "print(response.decode(errors=\"ignore\"))\n",
    "\n",
    "ser.close()"
   ]
  },
  {
   "cell_type": "markdown",
   "id": "cd23b8f3",
   "metadata": {},
   "source": [
    "Set Frequency"
   ]
  },
  {
   "cell_type": "code",
   "execution_count": null,
   "id": "8ef12f8a",
   "metadata": {},
   "outputs": [],
   "source": [
    "# 0 - internal reference frequency; 1 - external reference frequency\n",
    "mode = 0\n",
    "\n",
    "# Set Frequency in MHZ\n",
    "frequencyMHZ = 200\n",
    "\n",
    "\n",
    "MHZ = 1000000\n",
    "freqHZ = MHZ*frequencyMHZ\n",
    "\n",
    "ser = serial.Serial(port=port_number,baudrate=115200,timeout=1)\n",
    "setfrequency = b'setclock %d %d\\r\\n' % (mode, freqHZ)\n",
    "ser.write(setfrequency)\n",
    "\n",
    "response = ser.read(100)\n",
    "\n",
    "print(response.decode(errors=\"ignore\"))\n",
    "\n",
    "ser.close()"
   ]
  },
  {
   "cell_type": "markdown",
   "id": "c55752e7",
   "metadata": {},
   "source": [
    "Set Instructions for Psuedoclock"
   ]
  },
  {
   "cell_type": "code",
   "execution_count": null,
   "id": "d0f36068",
   "metadata": {},
   "outputs": [],
   "source": [
    "# Set Psuedoclock (0 - 3)\n",
    "psuedoclock = 0\n",
    "\n",
    "# Beginning Address (0 indexed)\n",
    "baddr = 0\n",
    "\n",
    "# Ending Address\n",
    "eaddr = 1\n",
    "\n",
    "# Stop Address (Set Equal to the last Ending Address)\n",
    "saddr = 1\n",
    "\n",
    "# Set Half-period (5 - 2^32)\n",
    "halfperiod = 30\n",
    "\n",
    "# Set Repetitions (0 - 2^32)\n",
    "reps = 10000\n",
    "\n",
    "ser = serial.Serial(port=port_number,baudrate=115200,timeout=1)\n",
    "for i in range(baddr,eaddr):\n",
    "    instructions = b'set %d %d %d %d\\r\\n' % (psuedoclock,i,halfperiod,reps)\n",
    "    ser.write(instructions)\n",
    "stopf = b'set %d %d 0 0\\r\\n' % (psuedoclock,saddr)\n",
    "ser.write(stopf)\n",
    "\n",
    "response = ser.read(50)\n",
    "\n",
    "print(response.decode(errors=\"ignore\"))\n",
    "\n",
    "ser.close()"
   ]
  },
  {
   "cell_type": "markdown",
   "id": "2ca429cd",
   "metadata": {},
   "source": [
    "Run Test"
   ]
  },
  {
   "cell_type": "code",
   "execution_count": null,
   "id": "4c1ecbd1",
   "metadata": {},
   "outputs": [],
   "source": [
    "ser = serial.Serial(port=port_number,baudrate=115200,timeout=1)\n",
    "\n",
    "ser.write(b'start\\r\\n')\n",
    "\n",
    "response = ser.read(1000)\n",
    "\n",
    "print(response.decode(errors=\"ignore\"))\n",
    "\n",
    "ser.close()"
   ]
  },
  {
   "cell_type": "markdown",
   "id": "53475163",
   "metadata": {},
   "source": [
    "# **Notes on Pico 1**\n",
    "\n",
    "## Frequency Stability\n",
    "\n",
    "Test different # of reps in order to determine frequency in the long run. We will use 100Mhz as a reference and hope that 200Mhz performs the same or better in terms of stability. The tests will be run on all 4 psuedoclocks at a half-period of 30 cycles since it is one of the lowest half-periods both 100Mhz and 200Mhz is detectable on the time tagger. In these tests, all 4 psuedoclocks produce almost identical charts. Variations occur from unequal start and stop measurement times for each channel. \n",
    "\n",
    "The graphs below are Allan graphs measuring different noises. A negative slope represents white noise, which gets reduced over larger averaging times. A neutral slope represents flicker noise, which is neither reduced or increased over longer averaging times. A positive slope represents random walk, which means noise is increasing over longer averaging times. A negative slope is ideal because it shows that noise is reduced and the frequency stabilizes over time.\n",
    "\n",
    "## Benchmark 100Mhz\n",
    "\n",
    "### Test 1: 100 Mhz; 4 psuedoclocks; 10,000 reps each; 30 half-period; \n",
    "\n",
    "##### Result 1 ![alt text](run1.png)\n",
    "##### Result 2 ![alt text](run2.png)\n",
    "##### Result 3 ![alt text](run3.png)\n",
    "\n",
    "### Test 2: 100 Mhz; 4 psuedoclocks; 50,000 reps each; 30 half-period; \n",
    "\n",
    "##### Result 1 ![alt text](run1-1.png)\n",
    "##### Result 2 ![alt text](run2-1.png)\n",
    "##### Result 3 ![alt text](run3-1.png)\n",
    "\n",
    "### Test 3: 100 Mhz; 4 psuedoclocks; 200,000 reps each; 30 half-period; \n",
    "\n",
    "##### Result 1 ![alt text](run1-2.png)\n",
    "##### Result 2 ![alt text](run2-2.png)\n",
    "##### Result 3 ![alt text](run3-2.png)\n",
    "\n",
    "### Test 4: 100 Mhz; 4 psuedoclocks; 1,000,000 reps each; 30 half-period; \n",
    "\n",
    "##### Result 1 ![alt text](run1-3.png)\n",
    "##### Result 2 ![alt text](run2-3.png)\n",
    "##### Result 3 ![alt text](run3-3.png)\n",
    "\n",
    "### Test 5: 100 Mhz; 4 psuedoclocks; 5,000,000 reps each; 30 half-period; \n",
    "\n",
    "##### Result 1 ![alt text](run1-4.png)\n",
    "##### Result 2 ![alt text](run2-4.png)\n",
    "##### Result 3 ![alt text](run3-4.png)\n",
    "\n",
    "### Test 6: 100 Mhz; 4 psuedoclocks; 20,000,000 reps each; 30 half-period; \n",
    "\n",
    "##### Result 1 ![alt text](run1-5.png)\n",
    "##### Result 2 ![alt text](run2-5.png)\n",
    "##### Result 3 ![alt text](run3-5.png)\n",
    "\n",
    "### Test 7: 100 Mhz; 4 psuedoclocks; 100,000,000 reps each; 30 half-period; \n",
    "\n",
    "##### Result 1 ![alt text](run1-6.png)\n",
    "##### Result 2 ![alt text](run2-6.png)\n",
    "##### Result 3 ![alt text](run3-6.png)\n",
    "\n",
    "# Benchmark 200Mhz\n",
    "\n",
    "### Test 1: 200 Mhz; 4 psuedoclocks; 10,000 reps each; 30 half-period;\n",
    "\n",
    "##### Result 1 ![alt text](run1-7.png)\n",
    "##### Result 2 ![alt text](run2-7.png)\n",
    "##### Result 3 ![alt text](run3-7.png)\n",
    "\n",
    "### Test 2: 200 Mhz; 4 psuedoclocks; 50,000 reps each; 30 half-period;\n",
    "\n",
    "##### Result 1 ![alt text](run1-8.png)\n",
    "##### Result 2 ![alt text](run2-8.png)\n",
    "##### Result 3 ![alt text](run3-8.png)\n",
    "\n",
    "### Test 3: 200 Mhz; 4 psuedoclocks; 200,000 reps each; 30 half-period;\n",
    "\n",
    "##### Result 1 ![alt text](run1-9.png)\n",
    "##### Result 2 ![alt text](run2-9.png)\n",
    "##### Result 3 ![alt text](run3-9.png)\n",
    "\n",
    "### Test 4: 200 Mhz; 4 psuedoclocks; 1,000,000 reps each; 30 half-period;\n",
    "\n",
    "##### Result 1 ![alt text](run1-10.png)\n",
    "##### Result 2 ![alt text](run2-10.png)\n",
    "##### Result 3 ![alt text](run3-10.png)\n",
    "\n",
    "### Test 5: 200 Mhz; 4 psuedoclocks; 5,000,000 reps each; 30 half-period;\n",
    "\n",
    "##### Result 1 ![alt text](run1-11.png)\n",
    "##### Result 2 ![alt text](run2-11.png)\n",
    "##### Result 3 ![alt text](run3-11.png)\n",
    "\n",
    "### Test 6: 200 Mhz; 4 psuedoclocks; 20,000,000 reps each; 30 half-period;\n",
    "\n",
    "##### Result 1 ![alt text](run1-12.png)\n",
    "##### Result 2 ![alt text](run2-12.png)\n",
    "##### Result 3 ![alt text](run3-12.png)\n",
    "\n",
    "### Test 7: 200 Mhz; 4 psuedoclocks; 100,000,000 reps each; 30 half-period;\n",
    "\n",
    "##### Result 1 ![alt text](run1-13.png)\n",
    "##### Result 2 ![alt text](run2-13.png)\n",
    "##### Result 3 ![alt text](run3-13.png)"
   ]
  }
 ],
 "metadata": {
  "kernelspec": {
   "display_name": "Prawn_Blaster",
   "language": "python",
   "name": "python3"
  },
  "language_info": {
   "codemirror_mode": {
    "name": "ipython",
    "version": 3
   },
   "file_extension": ".py",
   "mimetype": "text/x-python",
   "name": "python",
   "nbconvert_exporter": "python",
   "pygments_lexer": "ipython3",
   "version": "3.11.13"
  }
 },
 "nbformat": 4,
 "nbformat_minor": 5
}
